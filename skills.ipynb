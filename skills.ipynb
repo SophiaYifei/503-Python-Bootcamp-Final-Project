{
 "cells": [
  {
   "cell_type": "code",
   "execution_count": 5,
   "id": "b2a53fb4",
   "metadata": {},
   "outputs": [],
   "source": [
    "from dotenv import load_dotenv\n",
    "import os\n",
    "\n",
    "import numpy as np\n",
    "import pandas as pd\n",
    "from huggingface_hub import InferenceClient\n",
    "from sklearn.metrics.pairwise import cosine_similarity"
   ]
  },
  {
   "cell_type": "code",
   "execution_count": 6,
   "id": "3d40efe3",
   "metadata": {},
   "outputs": [
    {
     "name": "stdout",
     "output_type": "stream",
     "text": [
      "Token loaded? True\n"
     ]
    }
   ],
   "source": [
    "# load the .env file into environment variables\n",
    "load_dotenv()\n",
    "\n",
    "HF_TOKEN = os.getenv(\"HUGGINGFACE_API_KEY\")\n",
    "print(\"Token loaded?\", HF_TOKEN is not None)"
   ]
  },
  {
   "cell_type": "code",
   "execution_count": 7,
   "id": "fa1ef69e",
   "metadata": {},
   "outputs": [],
   "source": [
    "SKILLS = [\n",
    "    \"Python\", \"SQL\", \"Excel\", \"Tableau\", \"Pandas\",\n",
    "    \"Power BI\", \"R\", \"AWS\", \"Git\", \"Spark\",\n",
    "    \"Docker\", \"Linux\", \"REST APIs\", \"NumPy\", \"Scikit-learn\"\n",
    "]"
   ]
  },
  {
   "cell_type": "code",
   "execution_count": null,
   "id": "59349e94",
   "metadata": {},
   "outputs": [],
   "source": [
    "HF_MODEL = \"sentence-transformers/all-MiniLM-L6-v2\"\n",
    "HF_TOKEN = os.getenv(\"HUGGINGFACE_API_KEY\") \n",
    "client = InferenceClient(token=HF_TOKEN)\n",
    "\n",
    "def embed_texts(texts):\n",
    "    vecs = client.feature_extraction(texts, model=HF_MODEL)\n",
    "    vecs = np.array(vecs, dtype=\"float32\")\n",
    "   # Normalising (L2 norm)\n",
    "    norms = np.linalg.norm(vecs, axis=1, keepdims=True)\n",
    "    norms[norms == 0.0] = 1.0\n",
    "    return vecs / norms\n",
    "\n",
    "skill_emb = embed_texts(SKILLS)"
   ]
  },
  {
   "cell_type": "code",
   "execution_count": 9,
   "id": "99c82e1b",
   "metadata": {},
   "outputs": [
    {
     "name": "stdout",
     "output_type": "stream",
     "text": [
      "Number of skills: 15\n",
      "Embedding shape: (15, 384)\n"
     ]
    }
   ],
   "source": [
    "print(\"Number of skills:\", len(SKILLS))\n",
    "print(\"Embedding shape:\", skill_emb.shape)"
   ]
  },
  {
   "cell_type": "code",
   "execution_count": null,
   "id": "e00519c2",
   "metadata": {},
   "outputs": [],
   "source": [
    "def detect_skills(text, threshold=0.45):\n",
    "    chunks = [c.strip() for c in text.replace(\"\\n\", \". \").split(\".\") if c.strip()]\n",
    "    if not chunks:\n",
    "        return set()\n",
    "    chunk_emb = embed_texts(chunks)\n",
    "    sims = cosine_similarity(chunk_emb, skill_emb)  # (n_chunks x n_skills)\n",
    "    present = set()\n",
    "    for j, skill in enumerate(SKILLS):\n",
    "        if sims[:, j].max() >= threshold:\n",
    "            present.add(skill)\n",
    "    return present"
   ]
  }
 ],
 "metadata": {
  "kernelspec": {
   "display_name": "venv (3.12.3)",
   "language": "python",
   "name": "python3"
  },
  "language_info": {
   "codemirror_mode": {
    "name": "ipython",
    "version": 3
   },
   "file_extension": ".py",
   "mimetype": "text/x-python",
   "name": "python",
   "nbconvert_exporter": "python",
   "pygments_lexer": "ipython3",
   "version": "3.12.3"
  }
 },
 "nbformat": 4,
 "nbformat_minor": 5
}
