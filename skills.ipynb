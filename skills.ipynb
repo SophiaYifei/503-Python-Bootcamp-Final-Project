{
 "cells": [
  {
   "cell_type": "code",
   "execution_count": 15,
   "id": "b2a53fb4",
   "metadata": {},
   "outputs": [],
   "source": [
    "from dotenv import load_dotenv\n",
    "import os\n",
    "\n",
    "import numpy as np\n",
    "import pandas as pd\n",
    "from huggingface_hub import InferenceClient\n",
    "from sklearn.metrics.pairwise import cosine_similarity"
   ]
  },
  {
   "cell_type": "code",
   "execution_count": 16,
   "id": "3d40efe3",
   "metadata": {},
   "outputs": [
    {
     "name": "stdout",
     "output_type": "stream",
     "text": [
      "Token loaded? True\n"
     ]
    }
   ],
   "source": [
    "# load the .env file into environment variables\n",
    "load_dotenv()\n",
    "\n",
    "HF_TOKEN = os.getenv(\"HUGGINGFACE_API_KEY\")\n",
    "print(\"Token loaded?\", HF_TOKEN is not None)"
   ]
  },
  {
   "cell_type": "code",
   "execution_count": 17,
   "id": "fa1ef69e",
   "metadata": {},
   "outputs": [],
   "source": [
    "SKILLS = [\n",
    "    \"Python\", \"SQL\", \"Excel\", \"Tableau\", \"Pandas\",\n",
    "    \"Power BI\", \"R\", \"AWS\", \"Git\", \"Spark\",\n",
    "    \"Docker\", \"Linux\", \"REST APIs\", \"NumPy\", \"Scikit-learn\"\n",
    "]"
   ]
  },
  {
   "cell_type": "code",
   "execution_count": 18,
   "id": "59349e94",
   "metadata": {},
   "outputs": [],
   "source": [
    "HF_MODEL = \"sentence-transformers/all-MiniLM-L6-v2\"\n",
    "HF_TOKEN = os.getenv(\"HUGGINGFACE_API_KEY\") \n",
    "client = InferenceClient(token=HF_TOKEN)\n",
    "\n",
    "def embed_texts(texts):\n",
    "    vecs = client.feature_extraction(texts, model=HF_MODEL)\n",
    "    vecs = np.array(vecs, dtype=\"float32\")\n",
    "   # Normalising (L2 norm)\n",
    "    norms = np.linalg.norm(vecs, axis=1, keepdims=True)\n",
    "    norms[norms == 0.0] = 1.0\n",
    "    return vecs / norms\n",
    "\n",
    "skill_emb = embed_texts(SKILLS)"
   ]
  },
  {
   "cell_type": "code",
   "execution_count": 19,
   "id": "99c82e1b",
   "metadata": {},
   "outputs": [
    {
     "name": "stdout",
     "output_type": "stream",
     "text": [
      "Number of skills: 15\n",
      "Embedding shape: (15, 384)\n"
     ]
    }
   ],
   "source": [
    "print(\"Number of skills:\", len(SKILLS))\n",
    "print(\"Embedding shape:\", skill_emb.shape)"
   ]
  },
  {
   "cell_type": "code",
   "execution_count": 35,
   "id": "e00519c2",
   "metadata": {},
   "outputs": [],
   "source": [
    "def detect_skills(text, threshold=0.4): # lower threshold is less overlap, make slider on UI\n",
    "    chunks = [c.strip() for c in text.replace(\"\\n\", \". \").split(\".\") if c.strip()]\n",
    "    if not chunks:\n",
    "        return set()\n",
    "    chunk_emb = embed_texts(chunks)\n",
    "    sims = cosine_similarity(chunk_emb, skill_emb)  # (n_chunks x n_skills)\n",
    "    present = set()\n",
    "    for j, skill in enumerate(SKILLS):\n",
    "        if sims[:, j].max() >= threshold:\n",
    "            present.add(skill)\n",
    "    return present"
   ]
  },
  {
   "cell_type": "code",
   "execution_count": 40,
   "id": "892ff95a",
   "metadata": {},
   "outputs": [],
   "source": [
    "# test_text = \"\"\"\n",
    "# I like programming in python\n",
    "# \"\"\"\n",
    "\n",
    "# print(\"Detected skills:\", detect_skills(test_text))"
   ]
  },
  {
   "cell_type": "code",
   "execution_count": 37,
   "id": "87a89fe5",
   "metadata": {},
   "outputs": [
    {
     "name": "stdout",
     "output_type": "stream",
     "text": [
      "Python 0.78888834\n",
      "SQL 0.25963736\n",
      "Excel 0.26993227\n",
      "Tableau 0.13012983\n",
      "Pandas 0.36518708\n",
      "Power BI 0.117324114\n",
      "R 0.2123638\n",
      "AWS 0.17676231\n",
      "Git 0.22005652\n",
      "Spark 0.14438607\n",
      "Docker 0.16434258\n",
      "Linux 0.33440065\n",
      "REST APIs 0.15498613\n",
      "NumPy 0.41810226\n",
      "Scikit-learn 0.38536593\n"
     ]
    }
   ],
   "source": [
    "sims = cosine_similarity(embed_texts([test_text]), skill_emb)\n",
    "for skill, score in zip(SKILLS, sims[0]):\n",
    "    print(skill, score)"
   ]
  },
  {
   "cell_type": "code",
   "execution_count": 41,
   "id": "b69273ad",
   "metadata": {},
   "outputs": [],
   "source": [
    "resume_text = \"\"\"\n",
    "I have experience in Python, Pandas, and NumPy for data analysis.\n",
    "I also create reports in Excel and Tableau. Familiar with Git.\n",
    "\"\"\"\n",
    "\n",
    "job_postings = [\n",
    "    {\"title\": \"Data Analyst\", \"description\": \"Analyze data using Python, SQL, Excel. Build dashboards with Tableau.\"},\n",
    "    {\"title\": \"ML Engineer\", \"description\": \"Work with Scikit-learn, Spark, and AWS to deploy models. Knowledge of Git required.\"},\n",
    "    {\"title\": \"BI Analyst\", \"description\": \"Create dashboards in Power BI and Tableau, extract data using SQL.\"}\n",
    "]"
   ]
  },
  {
   "cell_type": "code",
   "execution_count": 42,
   "id": "4bc6c644",
   "metadata": {},
   "outputs": [
    {
     "name": "stdout",
     "output_type": "stream",
     "text": [
      "Resume skills: {'Python', 'Git', 'Pandas', 'Excel', 'Tableau', 'NumPy'}\n",
      "Job demand counts: {'Python': 0, 'SQL': 0, 'Excel': 1, 'Tableau': 2, 'Pandas': 0, 'Power BI': 1, 'R': 0, 'AWS': 1, 'Git': 1, 'Spark': 0, 'Docker': 0, 'Linux': 0, 'REST APIs': 0, 'NumPy': 0, 'Scikit-learn': 1}\n"
     ]
    }
   ],
   "source": [
    "def compute_demand(posts):\n",
    "    counts = {s: 0 for s in SKILLS}\n",
    "    for p in posts:\n",
    "        text = p[\"title\"] + \" \" + p[\"description\"]\n",
    "        present = detect_skills(text)\n",
    "        for s in present:\n",
    "            counts[s] += 1\n",
    "    return counts\n",
    "\n",
    "demand_counts = compute_demand(job_postings)\n",
    "resume_skills = detect_skills(resume_text)\n",
    "\n",
    "print(\"Resume skills:\", resume_skills)\n",
    "print(\"Job demand counts:\", demand_counts)"
   ]
  },
  {
   "cell_type": "code",
   "execution_count": 43,
   "id": "ea4faa50",
   "metadata": {},
   "outputs": [
    {
     "data": {
      "text/html": [
       "<div>\n",
       "<style scoped>\n",
       "    .dataframe tbody tr th:only-of-type {\n",
       "        vertical-align: middle;\n",
       "    }\n",
       "\n",
       "    .dataframe tbody tr th {\n",
       "        vertical-align: top;\n",
       "    }\n",
       "\n",
       "    .dataframe thead th {\n",
       "        text-align: right;\n",
       "    }\n",
       "</style>\n",
       "<table border=\"1\" class=\"dataframe\">\n",
       "  <thead>\n",
       "    <tr style=\"text-align: right;\">\n",
       "      <th></th>\n",
       "      <th>skill</th>\n",
       "      <th>demand_count</th>\n",
       "      <th>demand_pct</th>\n",
       "      <th>in_resume</th>\n",
       "    </tr>\n",
       "  </thead>\n",
       "  <tbody>\n",
       "    <tr>\n",
       "      <th>3</th>\n",
       "      <td>Tableau</td>\n",
       "      <td>2</td>\n",
       "      <td>66.7</td>\n",
       "      <td>True</td>\n",
       "    </tr>\n",
       "    <tr>\n",
       "      <th>2</th>\n",
       "      <td>Excel</td>\n",
       "      <td>1</td>\n",
       "      <td>33.3</td>\n",
       "      <td>True</td>\n",
       "    </tr>\n",
       "    <tr>\n",
       "      <th>5</th>\n",
       "      <td>Power BI</td>\n",
       "      <td>1</td>\n",
       "      <td>33.3</td>\n",
       "      <td>False</td>\n",
       "    </tr>\n",
       "    <tr>\n",
       "      <th>7</th>\n",
       "      <td>AWS</td>\n",
       "      <td>1</td>\n",
       "      <td>33.3</td>\n",
       "      <td>False</td>\n",
       "    </tr>\n",
       "    <tr>\n",
       "      <th>8</th>\n",
       "      <td>Git</td>\n",
       "      <td>1</td>\n",
       "      <td>33.3</td>\n",
       "      <td>True</td>\n",
       "    </tr>\n",
       "    <tr>\n",
       "      <th>14</th>\n",
       "      <td>Scikit-learn</td>\n",
       "      <td>1</td>\n",
       "      <td>33.3</td>\n",
       "      <td>False</td>\n",
       "    </tr>\n",
       "    <tr>\n",
       "      <th>0</th>\n",
       "      <td>Python</td>\n",
       "      <td>0</td>\n",
       "      <td>0.0</td>\n",
       "      <td>True</td>\n",
       "    </tr>\n",
       "    <tr>\n",
       "      <th>1</th>\n",
       "      <td>SQL</td>\n",
       "      <td>0</td>\n",
       "      <td>0.0</td>\n",
       "      <td>False</td>\n",
       "    </tr>\n",
       "    <tr>\n",
       "      <th>4</th>\n",
       "      <td>Pandas</td>\n",
       "      <td>0</td>\n",
       "      <td>0.0</td>\n",
       "      <td>True</td>\n",
       "    </tr>\n",
       "    <tr>\n",
       "      <th>6</th>\n",
       "      <td>R</td>\n",
       "      <td>0</td>\n",
       "      <td>0.0</td>\n",
       "      <td>False</td>\n",
       "    </tr>\n",
       "    <tr>\n",
       "      <th>9</th>\n",
       "      <td>Spark</td>\n",
       "      <td>0</td>\n",
       "      <td>0.0</td>\n",
       "      <td>False</td>\n",
       "    </tr>\n",
       "    <tr>\n",
       "      <th>10</th>\n",
       "      <td>Docker</td>\n",
       "      <td>0</td>\n",
       "      <td>0.0</td>\n",
       "      <td>False</td>\n",
       "    </tr>\n",
       "    <tr>\n",
       "      <th>11</th>\n",
       "      <td>Linux</td>\n",
       "      <td>0</td>\n",
       "      <td>0.0</td>\n",
       "      <td>False</td>\n",
       "    </tr>\n",
       "    <tr>\n",
       "      <th>12</th>\n",
       "      <td>REST APIs</td>\n",
       "      <td>0</td>\n",
       "      <td>0.0</td>\n",
       "      <td>False</td>\n",
       "    </tr>\n",
       "    <tr>\n",
       "      <th>13</th>\n",
       "      <td>NumPy</td>\n",
       "      <td>0</td>\n",
       "      <td>0.0</td>\n",
       "      <td>True</td>\n",
       "    </tr>\n",
       "  </tbody>\n",
       "</table>\n",
       "</div>"
      ],
      "text/plain": [
       "           skill  demand_count  demand_pct  in_resume\n",
       "3        Tableau             2        66.7       True\n",
       "2          Excel             1        33.3       True\n",
       "5       Power BI             1        33.3      False\n",
       "7            AWS             1        33.3      False\n",
       "8            Git             1        33.3       True\n",
       "14  Scikit-learn             1        33.3      False\n",
       "0         Python             0         0.0       True\n",
       "1            SQL             0         0.0      False\n",
       "4         Pandas             0         0.0       True\n",
       "6              R             0         0.0      False\n",
       "9          Spark             0         0.0      False\n",
       "10        Docker             0         0.0      False\n",
       "11         Linux             0         0.0      False\n",
       "12     REST APIs             0         0.0      False\n",
       "13         NumPy             0         0.0       True"
      ]
     },
     "execution_count": 43,
     "metadata": {},
     "output_type": "execute_result"
    }
   ],
   "source": [
    "# --- Cell 8: Gap analysis table ---\n",
    "def summarize(demand_counts, resume_skills, total_posts):\n",
    "    rows = []\n",
    "    for s in SKILLS:\n",
    "        c = demand_counts.get(s, 0)\n",
    "        pct = round(100 * c / max(total_posts, 1), 1)\n",
    "        rows.append({\n",
    "            \"skill\": s,\n",
    "            \"demand_count\": c,\n",
    "            \"demand_pct\": pct,\n",
    "            \"in_resume\": s in resume_skills\n",
    "        })\n",
    "    df = pd.DataFrame(rows).sort_values([\"demand_count\"], ascending=False)\n",
    "    return df\n",
    "\n",
    "df = summarize(demand_counts, resume_skills, len(job_postings))\n",
    "df"
   ]
  },
  {
   "cell_type": "code",
   "execution_count": 44,
   "id": "02f3ed01",
   "metadata": {},
   "outputs": [
    {
     "data": {
      "text/html": [
       "<div>\n",
       "<style scoped>\n",
       "    .dataframe tbody tr th:only-of-type {\n",
       "        vertical-align: middle;\n",
       "    }\n",
       "\n",
       "    .dataframe tbody tr th {\n",
       "        vertical-align: top;\n",
       "    }\n",
       "\n",
       "    .dataframe thead th {\n",
       "        text-align: right;\n",
       "    }\n",
       "</style>\n",
       "<table border=\"1\" class=\"dataframe\">\n",
       "  <thead>\n",
       "    <tr style=\"text-align: right;\">\n",
       "      <th></th>\n",
       "      <th>skill</th>\n",
       "      <th>demand_count</th>\n",
       "      <th>demand_pct</th>\n",
       "      <th>in_resume</th>\n",
       "    </tr>\n",
       "  </thead>\n",
       "  <tbody>\n",
       "    <tr>\n",
       "      <th>5</th>\n",
       "      <td>Power BI</td>\n",
       "      <td>1</td>\n",
       "      <td>33.3</td>\n",
       "      <td>False</td>\n",
       "    </tr>\n",
       "    <tr>\n",
       "      <th>7</th>\n",
       "      <td>AWS</td>\n",
       "      <td>1</td>\n",
       "      <td>33.3</td>\n",
       "      <td>False</td>\n",
       "    </tr>\n",
       "    <tr>\n",
       "      <th>14</th>\n",
       "      <td>Scikit-learn</td>\n",
       "      <td>1</td>\n",
       "      <td>33.3</td>\n",
       "      <td>False</td>\n",
       "    </tr>\n",
       "  </tbody>\n",
       "</table>\n",
       "</div>"
      ],
      "text/plain": [
       "           skill  demand_count  demand_pct  in_resume\n",
       "5       Power BI             1        33.3      False\n",
       "7            AWS             1        33.3      False\n",
       "14  Scikit-learn             1        33.3      False"
      ]
     },
     "execution_count": 44,
     "metadata": {},
     "output_type": "execute_result"
    }
   ],
   "source": [
    "# --- Cell 9: Show top missing skills ---\n",
    "missing = df[(df[\"in_resume\"] == False) & (df[\"demand_count\"] > 0)]\n",
    "missing.sort_values(\"demand_count\", ascending=False).head(5)"
   ]
  },
  {
   "cell_type": "code",
   "execution_count": null,
   "id": "b7af4d1f",
   "metadata": {},
   "outputs": [],
   "source": []
  }
 ],
 "metadata": {
  "kernelspec": {
   "display_name": "venv (3.12.3)",
   "language": "python",
   "name": "python3"
  },
  "language_info": {
   "codemirror_mode": {
    "name": "ipython",
    "version": 3
   },
   "file_extension": ".py",
   "mimetype": "text/x-python",
   "name": "python",
   "nbconvert_exporter": "python",
   "pygments_lexer": "ipython3",
   "version": "3.12.3"
  }
 },
 "nbformat": 4,
 "nbformat_minor": 5
}
